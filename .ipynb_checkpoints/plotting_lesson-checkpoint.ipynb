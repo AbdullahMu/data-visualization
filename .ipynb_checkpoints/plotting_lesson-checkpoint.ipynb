{
 "cells": [
  {
   "cell_type": "markdown",
   "metadata": {},
   "source": [
    "<img src=\"http://imgur.com/1ZcRyrc.png\" style=\"float: left; margin: 20px; height: 55px\">\n",
    "\n",
    "# Data Visualisation Principles\n",
    "\n",
    "---"
   ]
  },
  {
   "cell_type": "markdown",
   "metadata": {},
   "source": [
    "## LEARNING OBJECTIVES\n",
    "\n",
    "### Core\n",
    "- Create various plot types with `matplotlib`\n",
    "    - Line plots (`plt.plot`)\n",
    "    - Scatter plots (`plt.scatter`)\n",
    "    - Histograms (`plt.hist`)\n",
    "    - Bar plots (`plt.bar`)\n",
    "\n",
    "### Target\n",
    "- Create figure objects (`fig, ax = plt.subplots()`)\n",
    "- Save figures to a file (`plt.savefig(file.pdf,format='pdf')`)\n",
    "\n",
    "### Stretch\n",
    "- Combine several plots into a single figure"
   ]
  },
  {
   "cell_type": "markdown",
   "metadata": {},
   "source": [
    "## Lesson Guide\n",
    "\n",
    "- [Why use Data Visualization?](#introduction)\n",
    "- [Loading the data](#loading)\n",
    "- [Line plot](#line)\n",
    "- [Scatter plot](#scatter)\n",
    "- [Histogram](#histogram)\n",
    "- [Bar plot](#bar)\n",
    "- [Pie chart](#pie)\n",
    "- [Figure objects](#figure)\n",
    "- [Additional resources](#resources)"
   ]
  },
  {
   "cell_type": "markdown",
   "metadata": {},
   "source": [
    "<a name=\"introduction\"></a>\n",
    "## Why use data visualizations? \n",
    "\n",
    "Using charts or graphs to\n",
    "visualize large amounts of complex data is easier than poring over spreadsheets or\n",
    "reports. Data visualization is a quick, easy way to convey concepts in a universal\n",
    "manner – and you can experiment with different scenarios by making slight adjustments.\n",
    "\n",
    "Here we want to have a look at some common types of plots and how to produce them with matplotlib."
   ]
  },
  {
   "cell_type": "markdown",
   "metadata": {},
   "source": [
    "We import necessary packages like numpy for working with the data, and matplotlib and seaborn for plotting.\n",
    "\n",
    "We choose a particular plotting style, set the font scale (for larger labels) and specify that we have a retina screen (for higher resolution, if you do not have one, the command will do nothing)."
   ]
  },
  {
   "cell_type": "code",
   "execution_count": 2,
   "metadata": {},
   "outputs": [],
   "source": [
    "import numpy as np\n",
    "import pandas as pd\n",
    "import matplotlib.pyplot as plt\n",
    "\n",
    "plt.style.use('ggplot')"
   ]
  },
  {
   "cell_type": "markdown",
   "metadata": {},
   "source": [
    "<a name=\"loading\"></a>\n",
    "### Loading the data"
   ]
  },
  {
   "cell_type": "markdown",
   "metadata": {},
   "source": [
    "We import two datasets, one is the sales data that you have already met, the other is related to admission statistics to graduate schools including the prestige of the undergraduate school and the GRE and GPA results of the students."
   ]
  },
  {
   "cell_type": "markdown",
   "metadata": {},
   "source": [
    "#### Sales data"
   ]
  },
  {
   "cell_type": "code",
   "execution_count": 7,
   "metadata": {},
   "outputs": [],
   "source": [
    "data_sales = pd.read_csv('datasets/sales_data_simple/sales.csv')"
   ]
  },
  {
   "cell_type": "code",
   "execution_count": 1,
   "metadata": {},
   "outputs": [],
   "source": [
    "# .head()\n"
   ]
  },
  {
   "cell_type": "code",
   "execution_count": 2,
   "metadata": {},
   "outputs": [],
   "source": [
    "# .shape\n"
   ]
  },
  {
   "cell_type": "markdown",
   "metadata": {},
   "source": [
    "#### Admissions data"
   ]
  },
  {
   "cell_type": "code",
   "execution_count": 12,
   "metadata": {},
   "outputs": [],
   "source": [
    "data_admit = pd.read_csv('datasets/admissions/admissions.csv')"
   ]
  },
  {
   "cell_type": "code",
   "execution_count": 30,
   "metadata": {},
   "outputs": [],
   "source": [
    "# drop null values \n",
    "data_admit.dropna(inplace=True)"
   ]
  },
  {
   "cell_type": "code",
   "execution_count": 3,
   "metadata": {
    "scrolled": true
   },
   "outputs": [],
   "source": [
    "# .head()\n"
   ]
  },
  {
   "cell_type": "code",
   "execution_count": 4,
   "metadata": {},
   "outputs": [],
   "source": [
    "# .shape\n"
   ]
  },
  {
   "cell_type": "markdown",
   "metadata": {},
   "source": [
    "Let's have a look at some common plots and how to make them with matplotlib."
   ]
  },
  {
   "cell_type": "markdown",
   "metadata": {},
   "source": [
    "<a name=\"line\"></a>\n",
    "### Line plot\n",
    "\n",
    "A line chart displays information by a series of data points connected by (usually) straight lines."
   ]
  },
  {
   "cell_type": "code",
   "execution_count": 5,
   "metadata": {},
   "outputs": [],
   "source": [
    "# plot volume_sold\n"
   ]
  },
  {
   "cell_type": "code",
   "execution_count": 6,
   "metadata": {},
   "outputs": [],
   "source": [
    "# how many points \n"
   ]
  },
  {
   "cell_type": "code",
   "execution_count": 7,
   "metadata": {},
   "outputs": [],
   "source": [
    "# plot sales_2015 and sales_2016 together\n",
    "# set legend\n",
    "# set title\n"
   ]
  },
  {
   "cell_type": "markdown",
   "metadata": {},
   "source": [
    "> **Note**: If you put a semicolon behind the plotting command or use the command `plt.show()` you can suppress printing out ugly junk about object creation."
   ]
  },
  {
   "cell_type": "markdown",
   "metadata": {},
   "source": [
    "<a name=\"scatter\"></a>\n",
    "### Scatter plot\n",
    "Scatter plots are a great way to give you a sense of trends, concentrations\n",
    "and outliers. This will give you a good idea of where you may want to investigate\n",
    "further. "
   ]
  },
  {
   "cell_type": "code",
   "execution_count": 8,
   "metadata": {},
   "outputs": [],
   "source": [
    "# plot gre , gpa\n",
    "# set x , y labels\n"
   ]
  },
  {
   "cell_type": "markdown",
   "metadata": {},
   "source": [
    "<a name=\"histogram\"></a>\n",
    "### Histogram \n",
    "\n",
    "Histograms are useful to depict the distribution of continuous data. \n"
   ]
  },
  {
   "cell_type": "code",
   "execution_count": 9,
   "metadata": {},
   "outputs": [],
   "source": [
    "# plot gre \n",
    "# set x label\n"
   ]
  },
  {
   "cell_type": "markdown",
   "metadata": {},
   "source": [
    "<a name=\"bar\"></a>\n",
    "### Bar plot\n",
    "\n",
    "Bar charts are one of the most common ways to visualize data. Why? Because it's easy\n",
    "and straightforward for the eye to compare information. Bar charts are\n",
    "most effective when you have numerical data that splits neatly into different\n",
    "categories."
   ]
  },
  {
   "cell_type": "code",
   "execution_count": 10,
   "metadata": {},
   "outputs": [],
   "source": [
    "# how many entries for each prestige level\n"
   ]
  },
  {
   "cell_type": "code",
   "execution_count": 11,
   "metadata": {},
   "outputs": [],
   "source": [
    "# plot bar for prestige levels\n",
    "# set x, y axis\n"
   ]
  },
  {
   "cell_type": "markdown",
   "metadata": {},
   "source": [
    "<a name=\"pie\"></a>\n",
    "### Pie chart\n",
    "\n",
    "Pie charts are to be discouraged in general. The only time that pie charts should be used is to show relative proportions\n",
    "or percentages of information. If you want to compare data, leave it to bars or stacked bars. If your viewer\n",
    "has to work to translate pie wedges into relevant data or compare pie charts, key points\n",
    "you might be trying to convey may be missed. This is because of the way the eye will \n",
    "improperly perceive the relative sizes of the wedges. An alternative are doughnut charts,\n",
    "but these are still problematic."
   ]
  },
  {
   "cell_type": "code",
   "execution_count": 12,
   "metadata": {},
   "outputs": [],
   "source": [
    "# plot pie for prestige levels\n"
   ]
  },
  {
   "cell_type": "markdown",
   "metadata": {},
   "source": [
    "Here is another fun example of [pie charts in action](http://www.tv.com/news/learning-about-the-2013-pilot-season-through-pie-charts-136243394841/)."
   ]
  },
  {
   "cell_type": "markdown",
   "metadata": {},
   "source": [
    "<a name=\"figure\"></a>\n",
    "### Figure objects\n",
    "\n",
    "You can perfectly create figures as above. If you want to change the figure, you simply add some code and run the cell again.\n",
    "\n",
    "This is impractical if you have figures which take a long time to create or if you are not working in the jupyter notebook environment where your figures are directly displayed. \n",
    "\n",
    "It is therefore useful to assign the objects that matplotlib produces when creating a plot to variables which you can refer to later. There are usually two objects. One is the figure object, conventionally referred to as `ax`, and another is the figure of the plot itself referred to as `fig`. These objects you can call or modify at a later stage.\n",
    "\n",
    "You will see that structure frequently in the lessons."
   ]
  },
  {
   "cell_type": "code",
   "execution_count": 13,
   "metadata": {},
   "outputs": [],
   "source": [
    "# create the figure output object\n",
    "\n",
    "\n",
    "\n",
    "# obtain the object for producing the figure, gca stands for get current axis\n"
   ]
  },
  {
   "cell_type": "code",
   "execution_count": 14,
   "metadata": {},
   "outputs": [],
   "source": [
    "# create the figure output object\n",
    "\n",
    "\n",
    "\n",
    "# obtain the object for producing the figure, gca stands for get current axis\n",
    "\n",
    "\n",
    "\n",
    "# plot bar for prestige levels using ax\n",
    "# set x, y axis\n"
   ]
  },
  {
   "cell_type": "markdown",
   "metadata": {},
   "source": [
    "You can call these objects."
   ]
  },
  {
   "cell_type": "code",
   "execution_count": 15,
   "metadata": {},
   "outputs": [],
   "source": [
    "# ax"
   ]
  },
  {
   "cell_type": "code",
   "execution_count": 16,
   "metadata": {},
   "outputs": [],
   "source": [
    "# fig"
   ]
  },
  {
   "cell_type": "markdown",
   "metadata": {},
   "source": [
    "We can add a title to the figure. Note that many commands to modify the ax-object are a little bit different from the usual plt-functions."
   ]
  },
  {
   "cell_type": "code",
   "execution_count": 17,
   "metadata": {},
   "outputs": [],
   "source": [
    "# set title to 'Admission rates per prestige'\n"
   ]
  },
  {
   "cell_type": "markdown",
   "metadata": {},
   "source": [
    "An alternative way to directly create both objects is the following producing exactly the same output."
   ]
  },
  {
   "cell_type": "code",
   "execution_count": 18,
   "metadata": {},
   "outputs": [],
   "source": [
    "# create the figure object and figure output at the same time\n"
   ]
  },
  {
   "cell_type": "code",
   "execution_count": 19,
   "metadata": {},
   "outputs": [],
   "source": [
    "\n",
    "# plot bar for prestige levels using ax\n",
    "# set x, y axis\n"
   ]
  },
  {
   "cell_type": "markdown",
   "metadata": {},
   "source": [
    "We can easily combine several graphs into a single object. Note the numpy style of indexing."
   ]
  },
  {
   "cell_type": "code",
   "execution_count": 70,
   "metadata": {},
   "outputs": [
    {
     "data": {
      "image/png": "[encoded data removed]",
      "text/plain": [
       "<Figure size 864x288 with 2 Axes>"
      ]
     },
     "metadata": {
      "image/png": {
       "height": 258,
       "width": 722
      }
     },
     "output_type": "display_data"
    }
   ],
   "source": [
    "# create several objects at the same time\n"
   ]
  },
  {
   "cell_type": "code",
   "execution_count": 20,
   "metadata": {},
   "outputs": [],
   "source": [
    "# plot histogram of prestige \n",
    "# AND \n",
    "# plot prestige levels\n"
   ]
  },
  {
   "cell_type": "markdown",
   "metadata": {},
   "source": [
    "### Saving a figure\n",
    "\n",
    "Refer to the figure object and indicate the filename and desired format. "
   ]
  },
  {
   "cell_type": "code",
   "execution_count": 74,
   "metadata": {},
   "outputs": [],
   "source": [
    "fig.savefig('figure.pdf', format='pdf')"
   ]
  },
  {
   "cell_type": "markdown",
   "metadata": {},
   "source": [
    "<a name=\"resources\"></a>\n",
    "### Additional resources\n",
    "\n",
    "Take a look at the matplotlib and seaborn documentation for some inspiration. Tableau and D3 also have good resources on its website.\n",
    "\n",
    "Click here for more:\n",
    "\n",
    "[Matplotlib gallery](http://matplotlib.org/gallery/index.html)\n",
    "\n",
    "[Seaborn gallery](http://seaborn.pydata.org/examples/index.html)\n",
    "\n",
    "[Tableau charts and graphs](https://drive.google.com/file/d/0Bx2SHQGVqWasT1l4NWtLclJJcWM/view)\n",
    "\n",
    "[D3 gallery](https://github.com/mbostock/d3/wiki/Gallery)"
   ]
  },
  {
   "cell_type": "markdown",
   "metadata": {},
   "source": [
    "### Independent practice\n",
    "\n"
   ]
  },
  {
   "cell_type": "markdown",
   "metadata": {},
   "source": [
    "- Add axis labels and titles to the last figure.\n",
    "- Rearrange the figure so that the two plots are on top of each other.\n",
    "- Create a figure with four plots, two in each row.\n",
    "- Produce a histogram of GPA and experiment with the number of bins.\n",
    "- Find out about setting colors, line width and line styles."
   ]
  }
 ],
 "metadata": {
  "kernelspec": {
   "display_name": "Python 3",
   "language": "python",
   "name": "python3"
  },
  "language_info": {
   "codemirror_mode": {
    "name": "ipython",
    "version": 3
   },
   "file_extension": ".py",
   "mimetype": "text/x-python",
   "name": "python",
   "nbconvert_exporter": "python",
   "pygments_lexer": "ipython3",
   "version": "3.6.5"
  },
  "toc": {
   "nav_menu": {},
   "number_sections": false,
   "sideBar": true,
   "skip_h1_title": true,
   "title_cell": "Table of Contents",
   "title_sidebar": "Contents",
   "toc_cell": false,
   "toc_position": {
    "height": "calc(100% - 180px)",
    "left": "10px",
    "top": "150px",
    "width": "165px"
   },
   "toc_section_display": true,
   "toc_window_display": false
  }
 },
 "nbformat": 4,
 "nbformat_minor": 2
}
